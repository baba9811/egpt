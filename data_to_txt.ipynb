{
 "cells": [
  {
   "cell_type": "code",
   "execution_count": 1,
   "metadata": {},
   "outputs": [],
   "source": [
    "import pandas as pd"
   ]
  },
  {
   "cell_type": "code",
   "execution_count": 2,
   "metadata": {},
   "outputs": [],
   "source": [
    "data = pd.read_csv('data.csv', encoding='cp949')"
   ]
  },
  {
   "cell_type": "code",
   "execution_count": 3,
   "metadata": {},
   "outputs": [
    {
     "data": {
      "text/html": [
       "<div>\n",
       "<style scoped>\n",
       "    .dataframe tbody tr th:only-of-type {\n",
       "        vertical-align: middle;\n",
       "    }\n",
       "\n",
       "    .dataframe tbody tr th {\n",
       "        vertical-align: top;\n",
       "    }\n",
       "\n",
       "    .dataframe thead th {\n",
       "        text-align: right;\n",
       "    }\n",
       "</style>\n",
       "<table border=\"1\" class=\"dataframe\">\n",
       "  <thead>\n",
       "    <tr style=\"text-align: right;\">\n",
       "      <th></th>\n",
       "      <th>context</th>\n",
       "      <th>response</th>\n",
       "      <th>score</th>\n",
       "    </tr>\n",
       "  </thead>\n",
       "  <tbody>\n",
       "    <tr>\n",
       "      <th>0</th>\n",
       "      <td>아.. 나 너무 돼지같아</td>\n",
       "      <td>당신은 돼지같지 않아요. 당신은 소중하고 값진 사람이에요.</td>\n",
       "      <td>1</td>\n",
       "    </tr>\n",
       "    <tr>\n",
       "      <th>1</th>\n",
       "      <td>아니야 나는 너무 뚱뚱해</td>\n",
       "      <td>당신의 외모는 중요하지 않아요. 무엇보다 건강이 먼저에요. 자신을 사랑하고 존중해주세요.</td>\n",
       "      <td>1</td>\n",
       "    </tr>\n",
       "    <tr>\n",
       "      <th>2</th>\n",
       "      <td>이렇게 많이 먹으면 건강도 안 좋아질 걸</td>\n",
       "      <td>건강을 위해서는 균형 잡힌 식습관을 유지하는 것이 중요해요. 조금씩이라도 변화를 줘...</td>\n",
       "      <td>1</td>\n",
       "    </tr>\n",
       "    <tr>\n",
       "      <th>3</th>\n",
       "      <td>그러기엔 식욕 제어가 안되는 걸</td>\n",
       "      <td>식욕이 많다는 것은 정상적인 생리적 반응일 수 있어요. 하지만 지나치면 건강에 해로...</td>\n",
       "      <td>1</td>\n",
       "    </tr>\n",
       "    <tr>\n",
       "      <th>4</th>\n",
       "      <td>고민해볼게</td>\n",
       "      <td>네, 언제든지 제가 도움을 줄 준비가 되어있어요. 언제든지 편하게 말씀해주세요.</td>\n",
       "      <td>1</td>\n",
       "    </tr>\n",
       "  </tbody>\n",
       "</table>\n",
       "</div>"
      ],
      "text/plain": [
       "                  context                                           response  \\\n",
       "0           아.. 나 너무 돼지같아                   당신은 돼지같지 않아요. 당신은 소중하고 값진 사람이에요.   \n",
       "1           아니야 나는 너무 뚱뚱해  당신의 외모는 중요하지 않아요. 무엇보다 건강이 먼저에요. 자신을 사랑하고 존중해주세요.   \n",
       "2  이렇게 많이 먹으면 건강도 안 좋아질 걸  건강을 위해서는 균형 잡힌 식습관을 유지하는 것이 중요해요. 조금씩이라도 변화를 줘...   \n",
       "3       그러기엔 식욕 제어가 안되는 걸  식욕이 많다는 것은 정상적인 생리적 반응일 수 있어요. 하지만 지나치면 건강에 해로...   \n",
       "4                   고민해볼게       네, 언제든지 제가 도움을 줄 준비가 되어있어요. 언제든지 편하게 말씀해주세요.   \n",
       "\n",
       "   score  \n",
       "0      1  \n",
       "1      1  \n",
       "2      1  \n",
       "3      1  \n",
       "4      1  "
      ]
     },
     "execution_count": 3,
     "metadata": {},
     "output_type": "execute_result"
    }
   ],
   "source": [
    "data.head()"
   ]
  },
  {
   "cell_type": "code",
   "execution_count": 4,
   "metadata": {},
   "outputs": [],
   "source": [
    "with open('data.txt', 'w') as f:\n",
    "    for i in range(len(data)):\n",
    "        t1 = '</s>'+str(data.context[i])+'</s>'\n",
    "        t2 = '</s>'+str(data.response[i])+'</s>'\n",
    "        f.write(t1+t2 + '\\n')"
   ]
  },
  {
   "cell_type": "code",
   "execution_count": null,
   "metadata": {},
   "outputs": [],
   "source": []
  }
 ],
 "metadata": {
  "kernelspec": {
   "display_name": "dl",
   "language": "python",
   "name": "python3"
  },
  "language_info": {
   "codemirror_mode": {
    "name": "ipython",
    "version": 3
   },
   "file_extension": ".py",
   "mimetype": "text/x-python",
   "name": "python",
   "nbconvert_exporter": "python",
   "pygments_lexer": "ipython3",
   "version": "3.8.16"
  },
  "orig_nbformat": 4
 },
 "nbformat": 4,
 "nbformat_minor": 2
}
