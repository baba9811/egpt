{
 "cells": [
  {
   "cell_type": "code",
   "execution_count": 1,
   "metadata": {},
   "outputs": [],
   "source": [
    "import pandas as pd"
   ]
  },
  {
   "cell_type": "code",
   "execution_count": 22,
   "metadata": {},
   "outputs": [],
   "source": [
    "data_list = ['chatbot_data', 'data', 'wellness', 'train_data']\n",
    "\n",
    "for i in range(len(data_list)):\n",
    "    globals()[f'df{i+1}'] = pd.read_csv(f\"data/{data_list[i]}.csv\", encoding='cp949')\n"
   ]
  },
  {
   "cell_type": "code",
   "execution_count": 31,
   "metadata": {},
   "outputs": [
    {
     "name": "stdout",
     "output_type": "stream",
     "text": [
      "           context     response  score\n",
      "0           12시 땡!   하루가 또 가네요.      0\n",
      "1      1지망 학교 떨어졌어    위로해 드립니다.      0\n",
      "2     3박4일 놀러가고 싶다  여행은 언제나 좋죠.      0\n",
      "3  3박4일 정도 놀러가고 싶다  여행은 언제나 좋죠.      0\n",
      "4          PPL 심하네   눈살이 찌푸려지죠.      0 \n",
      "length: 11823\n"
     ]
    }
   ],
   "source": [
    "# 송영숙님 챗봇 데이터셋\n",
    "print(df1.head(), '\\nlength:',len(df1))"
   ]
  },
  {
   "cell_type": "code",
   "execution_count": 30,
   "metadata": {},
   "outputs": [
    {
     "name": "stdout",
     "output_type": "stream",
     "text": [
      "                                      context  \\\n",
      "0                                          안녕   \n",
      "1                                 사는 게 쉽지가 않다   \n",
      "2                           여기에서 더 어떻게 노력해야될까   \n",
      "3  돈도 없는데 취미생활은 나한테 사치야 바빠서 명상할 시간이 있을지도 모르겠다   \n",
      "4                                     해보기는 할게   \n",
      "\n",
      "                                            response  score  \n",
      "0            안녕하세요, 기분이 좋지 않으신가요? 이야기해보세요, 제가 들어줄게요.      0  \n",
      "1  제가 이해해요. 삶의 어려움에 노력하시면서 적극적으로 대처하시는 것이 중요해요. 하...      0  \n",
      "2  불안감과 우울감을 느낄 때는, 자신을 위한 시간을 가지는 것이 중요합니다. 일상에서...      0  \n",
      "3  돈이 없다면, 무료로 즐길 수 있는 취미생활을 찾는 것이 좋겠죠. 예를 들면, 한강...      0  \n",
      "4  그렇다면 좋은 선택입니다. 자신에게 맞는 취미나 힐링 방법을 찾으시면서 즐겁게 활동...      0   \n",
      "length: 221\n"
     ]
    }
   ],
   "source": [
    "# chatGPT API를 통해 생성한 데이터셋\n",
    "print(df2.head(), '\\nlength:',len(df2))"
   ]
  },
  {
   "cell_type": "code",
   "execution_count": 28,
   "metadata": {},
   "outputs": [
    {
     "name": "stdout",
     "output_type": "stream",
     "text": [
      "                                             context  \\\n",
      "0    제 감정이 이상해진 것 같아요. 남편만 보면 화가 치밀어 오르고 감정 조절이 안되요.   \n",
      "1                           더 이상 내 감정을 내가 컨트롤 못 하겠어.   \n",
      "2                        하루종일 오르락내리락 롤러코스터 타는 기분이에요.   \n",
      "3  평소 다른 일을 할 때도 비슷해요. 생각한대로 안되면 화가 나고…그런 상황이 지속되...   \n",
      "4                              예전보다 화내는 게 과격해진 거 같아.   \n",
      "\n",
      "                                     response  \n",
      "0             감정이 조절이 안 될 때만큼 힘들 때는 없는 거 같아요.  \n",
      "1                      저도 그 기분 이해해요. 많이 힘드시죠?  \n",
      "2     그럴 때는 밥은 잘 먹었는지, 잠은 잘 잤는지 체크해보는 것도 좋아요.  \n",
      "3  화가 폭발할 것 같을 때는 그 자리를 피하는 것도 좋은 방법이라고 생각해요.  \n",
      "4         정말 힘드시겠어요. 화는 남에게도 스스로에게도 상처를 주잖아요.   \n",
      "length: 1034\n"
     ]
    }
   ],
   "source": [
    "# wellness 데이터셋\n",
    "print(df3.head(),'\\nlength:',len(df3))"
   ]
  },
  {
   "cell_type": "code",
   "execution_count": 37,
   "metadata": {},
   "outputs": [],
   "source": [
    "columns = ['utterance', 'response', 'label']"
   ]
  },
  {
   "cell_type": "code",
   "execution_count": 38,
   "metadata": {},
   "outputs": [],
   "source": [
    "df4.columns = columns"
   ]
  },
  {
   "cell_type": "code",
   "execution_count": 41,
   "metadata": {},
   "outputs": [
    {
     "name": "stdout",
     "output_type": "stream",
     "text": [
      "                                    utterance  \\\n",
      "0                                          안녕   \n",
      "1                                 사는 게 쉽지가 않다   \n",
      "2                           여기에서 더 어떻게 노력해야될까   \n",
      "3  돈도 없는데 취미생활은 나한테 사치야 바빠서 명상할 시간이 있을지도 모르겠다   \n",
      "4                                     해보기는 할게   \n",
      "\n",
      "                                            response  label  \n",
      "0            안녕하세요, 기분이 좋지 않으신가요? 이야기해보세요, 제가 들어줄게요.      0  \n",
      "1  제가 이해해요. 삶의 어려움에 노력하시면서 적극적으로 대처하시는 것이 중요해요. 하...      0  \n",
      "2  불안감과 우울감을 느낄 때는, 자신을 위한 시간을 가지는 것이 중요합니다. 일상에서...      0  \n",
      "3  돈이 없다면, 무료로 즐길 수 있는 취미생활을 찾는 것이 좋겠죠. 예를 들면, 한강...      0  \n",
      "4  그렇다면 좋은 선택입니다. 자신에게 맞는 취미나 힐링 방법을 찾으시면서 즐겁게 활동...      0   \n",
      "length 13078\n"
     ]
    }
   ],
   "source": [
    "# 전체 데이터셋\n",
    "print(df4.head(),'\\nlength',len(df4))"
   ]
  },
  {
   "cell_type": "code",
   "execution_count": 42,
   "metadata": {},
   "outputs": [
    {
     "name": "stdout",
     "output_type": "stream",
     "text": [
      "1    7723\n",
      "0    5355\n",
      "Name: label, dtype: int64\n"
     ]
    }
   ],
   "source": [
    "print(df4.label.value_counts())"
   ]
  }
 ],
 "metadata": {
  "kernelspec": {
   "display_name": "dl",
   "language": "python",
   "name": "python3"
  },
  "language_info": {
   "codemirror_mode": {
    "name": "ipython",
    "version": 3
   },
   "file_extension": ".py",
   "mimetype": "text/x-python",
   "name": "python",
   "nbconvert_exporter": "python",
   "pygments_lexer": "ipython3",
   "version": "3.8.16"
  },
  "orig_nbformat": 4
 },
 "nbformat": 4,
 "nbformat_minor": 2
}
